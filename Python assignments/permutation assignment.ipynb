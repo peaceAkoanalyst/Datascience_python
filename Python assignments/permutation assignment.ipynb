{
 "cells": [
  {
   "cell_type": "code",
   "execution_count": 4,
   "id": "e6138c0b",
   "metadata": {},
   "outputs": [
    {
     "name": "stdout",
     "output_type": "stream",
     "text": [
      "Enter number of values: 6\n",
      "[1, 2, 3, 4, 5, 6]\n",
      "These values can be permutated in 720 ways\n"
     ]
    }
   ],
   "source": [
    "perm = []\n",
    "l = int(input(\"Enter number of values: \"))\n",
    "k = 1\n",
    "for i in range(1, l+1):\n",
    "    b = i\n",
    "    perm.append(b)\n",
    "print(perm)\n",
    "\n",
    "\n",
    "\n",
    "for i in range(1, l+1):\n",
    "    k = k*i\n",
    "print(f\"These values can be permutated in {k} ways\" )"
   ]
  },
  {
   "cell_type": "code",
   "execution_count": null,
   "id": "2ec3bb6a",
   "metadata": {},
   "outputs": [],
   "source": []
  }
 ],
 "metadata": {
  "kernelspec": {
   "display_name": "Python 3 (ipykernel)",
   "language": "python",
   "name": "python3"
  },
  "language_info": {
   "codemirror_mode": {
    "name": "ipython",
    "version": 3
   },
   "file_extension": ".py",
   "mimetype": "text/x-python",
   "name": "python",
   "nbconvert_exporter": "python",
   "pygments_lexer": "ipython3",
   "version": "3.9.12"
  }
 },
 "nbformat": 4,
 "nbformat_minor": 5
}
