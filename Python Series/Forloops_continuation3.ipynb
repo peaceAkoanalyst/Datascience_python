{
 "cells": [
  {
   "cell_type": "code",
   "execution_count": 10,
   "id": "23affe66",
   "metadata": {},
   "outputs": [
    {
     "name": "stdout",
     "output_type": "stream",
     "text": [
      "1.9078784028338909\n"
     ]
    }
   ],
   "source": [
    "array = [4, 6, 9, 10, 8]\n",
    "\n",
    "\n",
    "sum_value = 0\n",
    "for i in array:\n",
    "    sum_value = i + sum_value\n",
    "#print(sum_value)\n",
    "x_mean = sum_value/len(array)\n",
    "#print(x_mean)\n",
    "\n",
    "n_array = []\n",
    "for n in array:\n",
    "    b = round((n - x_mean)**2, 3)\n",
    "    n_array.append(b)\n",
    "#print(n_array)\n",
    "\n",
    "x_sum = 0\n",
    "for a in n_array:\n",
    "    x_sum = x_sum + a\n",
    "#print(x_sum)\n",
    "\n",
    "st_dev = (x_sum/len(array)-1)**(1/2)\n",
    "print(st_dev)"
   ]
  },
  {
   "cell_type": "code",
   "execution_count": 19,
   "id": "2c260388",
   "metadata": {},
   "outputs": [
    {
     "name": "stdout",
     "output_type": "stream",
     "text": [
      "enter string values: pina\n",
      "24\n"
     ]
    }
   ],
   "source": [
    "x = input(\"enter string values: \")\n",
    "sum_val = 1\n",
    "for i in range(1, len(x)+1):\n",
    "    sum_val = i * sum_val\n",
    "print(sum_val)"
   ]
  },
  {
   "cell_type": "code",
   "execution_count": 23,
   "id": "1780081e",
   "metadata": {},
   "outputs": [
    {
     "name": "stdout",
     "output_type": "stream",
     "text": [
      "hen\n",
      "len\n",
      "14\n"
     ]
    }
   ],
   "source": [
    "array1 = [\"hen\", \"len\", \"kate\", 10, 14, False]\n",
    "array2 = [\"dog\", \"cat\", \"kate\", 10, False]\n",
    "\n",
    "for i in array1:\n",
    "    if i not in array2:\n",
    "        print(i)"
   ]
  },
  {
   "cell_type": "code",
   "execution_count": 24,
   "id": "d9fe9012",
   "metadata": {},
   "outputs": [
    {
     "name": "stdout",
     "output_type": "stream",
     "text": [
      "dog\n",
      "cat\n"
     ]
    }
   ],
   "source": [
    "for i in array2:\n",
    "    if i not in array1:\n",
    "        print(i)"
   ]
  },
  {
   "cell_type": "code",
   "execution_count": 25,
   "id": "b2623ee6",
   "metadata": {},
   "outputs": [
    {
     "name": "stdout",
     "output_type": "stream",
     "text": [
      "['hen', 'len', 14, 'dog', 'cat']\n"
     ]
    }
   ],
   "source": [
    "array_val = []\n",
    "\n",
    "for i in array1:\n",
    "    if i not in array2:\n",
    "        array_val.append(i)\n",
    "for a in array2:\n",
    "    if a not in array1:\n",
    "        array_val.append(a)\n",
    "print(array_val)"
   ]
  },
  {
   "cell_type": "code",
   "execution_count": 28,
   "id": "cff9791e",
   "metadata": {},
   "outputs": [
    {
     "name": "stdout",
     "output_type": "stream",
     "text": [
      "['kate', 10, False]\n"
     ]
    }
   ],
   "source": [
    "array_val = []\n",
    "\n",
    "for i in array1:\n",
    "    if i in array2:\n",
    "        array_val.append(i)\n",
    "# for a in array2:\n",
    "#     if a in array1:\n",
    "#         array_val.append(a)\n",
    "print(array_val)"
   ]
  },
  {
   "cell_type": "code",
   "execution_count": 58,
   "id": "661b570c",
   "metadata": {},
   "outputs": [
    {
     "name": "stdout",
     "output_type": "stream",
     "text": [
      "[9, 2, 0, 6, 1, 12, 6, 5]\n"
     ]
    }
   ],
   "source": [
    "array_t = [1, 10, 6, 5, 12]\n",
    "array_k = [10, 12, 6, 11, 13, 12, 6, 5]\n",
    "\n",
    "diff_ = []\n",
    "if len(array_t) == len(array_k):\n",
    "    for i in range(0, len(array_t)):\n",
    "        diff_val = array_k[i] - array_t[i]\n",
    "        diff_.append(diff_val)\n",
    "    print(diff_)\n",
    "    \n",
    "elif len(array_t) != len(array_k):\n",
    "    if array_k > array_t or array_t > array_k:\n",
    "        p = len(array_k) - len(array_t)\n",
    "        val = [0 for i in range(0, p)]\n",
    "        for i in val:\n",
    "            array_t.append(i)\n",
    "        for i in range(0, len(array_t)):\n",
    "            diff_val = array_k[i] - array_t[i]\n",
    "            diff_.append(diff_val)\n",
    "    print(diff_)\n",
    "    \n",
    "else:\n",
    "    print(\"output not entered properly\")"
   ]
  },
  {
   "cell_type": "code",
   "execution_count": 44,
   "id": "270f171e",
   "metadata": {},
   "outputs": [
    {
     "data": {
      "text/plain": [
       "8"
      ]
     },
     "execution_count": 44,
     "metadata": {},
     "output_type": "execute_result"
    }
   ],
   "source": [
    "len(array_k)"
   ]
  },
  {
   "cell_type": "code",
   "execution_count": 45,
   "id": "3b771622",
   "metadata": {},
   "outputs": [
    {
     "data": {
      "text/plain": [
       "5"
      ]
     },
     "execution_count": 45,
     "metadata": {},
     "output_type": "execute_result"
    }
   ],
   "source": [
    "len(array_t)"
   ]
  },
  {
   "cell_type": "code",
   "execution_count": 47,
   "id": "6c6d6bc7",
   "metadata": {},
   "outputs": [
    {
     "name": "stdout",
     "output_type": "stream",
     "text": [
      "[1, 10, 6, 5, 12, 0, 0, 0]\n"
     ]
    }
   ],
   "source": [
    "if array_k > array_t:\n",
    "    p = len(array_k) - len(array_t)\n",
    "    val = [0 for i in range(0, p)]\n",
    "    for i in val:\n",
    "        array_t.append(i)\n",
    "    for i in range(0, len(array_t)):\n",
    "        diff_val = array_t[i] - array_k[i]\n",
    "        diff_.append(diff_val)\n",
    "else:\n",
    "    print(False)"
   ]
  },
  {
   "cell_type": "code",
   "execution_count": 50,
   "id": "6859c59e",
   "metadata": {},
   "outputs": [
    {
     "name": "stdout",
     "output_type": "stream",
     "text": [
      "[0, 0, 0]\n"
     ]
    }
   ],
   "source": [
    "val = [0 for i in range(0, 3)]\n",
    "print(val)"
   ]
  },
  {
   "cell_type": "code",
   "execution_count": 52,
   "id": "d45beaa0",
   "metadata": {},
   "outputs": [
    {
     "name": "stdout",
     "output_type": "stream",
     "text": [
      "[0, 0, 0]\n"
     ]
    }
   ],
   "source": [
    "val_value = []\n",
    "for i in range(0, 3):\n",
    "    val_value.append(0)\n",
    "print(val_value)"
   ]
  },
  {
   "cell_type": "code",
   "execution_count": 66,
   "id": "93ea791b",
   "metadata": {},
   "outputs": [
    {
     "name": "stdout",
     "output_type": "stream",
     "text": [
      "[0, 3]\n"
     ]
    }
   ],
   "source": [
    "nums = [2,7,11,15]\n",
    "for i in range(len(nums)):\n",
    "    for n in range(i+1, len(nums)):\n",
    "        b = nums[i] + nums[n]\n",
    "        if b == 17:\n",
    "            print([i, n])"
   ]
  },
  {
   "cell_type": "code",
   "execution_count": null,
   "id": "fff4d3b9",
   "metadata": {},
   "outputs": [],
   "source": []
  }
 ],
 "metadata": {
  "kernelspec": {
   "display_name": "Python 3 (ipykernel)",
   "language": "python",
   "name": "python3"
  },
  "language_info": {
   "codemirror_mode": {
    "name": "ipython",
    "version": 3
   },
   "file_extension": ".py",
   "mimetype": "text/x-python",
   "name": "python",
   "nbconvert_exporter": "python",
   "pygments_lexer": "ipython3",
   "version": "3.9.12"
  }
 },
 "nbformat": 4,
 "nbformat_minor": 5
}
