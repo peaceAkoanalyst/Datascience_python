{
 "cells": [
  {
   "cell_type": "code",
   "execution_count": 2,
   "id": "8b09b59a",
   "metadata": {},
   "outputs": [
    {
     "name": "stdout",
     "output_type": "stream",
     "text": [
      "enter score10\n",
      "15.0\n"
     ]
    }
   ],
   "source": [
    "x = float(input(\"enter score\"))\n",
    "print(x + 5)"
   ]
  },
  {
   "cell_type": "code",
   "execution_count": 7,
   "id": "35707720",
   "metadata": {},
   "outputs": [
    {
     "name": "stdout",
     "output_type": "stream",
     "text": [
      "enter how many values you want the array to contain: 5\n",
      "enter value 1: 22.3\n",
      "enter value 2: 22.1\n",
      "enter value 3: 15.8\n",
      "enter value 4: 16.1\n",
      "enter value 5: 78.0\n",
      "[22.3, 22.1, 15.8, 16.1, 78.0]\n"
     ]
    }
   ],
   "source": [
    "array_values = []\n",
    "b = int(input(\"enter how many values you want the array to contain: \"))\n",
    "for i in range(1, b+1):\n",
    "    values = float(input(f\"enter value {i}: \"))\n",
    "    array_values.append(values)\n",
    "print(array_values)"
   ]
  },
  {
   "cell_type": "code",
   "execution_count": 8,
   "id": "1ddf0650",
   "metadata": {},
   "outputs": [
    {
     "name": "stdout",
     "output_type": "stream",
     "text": [
      "[22.3, 22.1, 15.8, 16.1, 78.0]\n"
     ]
    }
   ],
   "source": [
    "print(array_values)"
   ]
  },
  {
   "cell_type": "code",
   "execution_count": 12,
   "id": "3f8f6f92",
   "metadata": {},
   "outputs": [
    {
     "name": "stdout",
     "output_type": "stream",
     "text": [
      "154.3\n"
     ]
    }
   ],
   "source": [
    "k = 0\n",
    "for i in array_values:\n",
    "    k = k + i\n",
    "print(k)"
   ]
  },
  {
   "cell_type": "code",
   "execution_count": 13,
   "id": "8aea96cb",
   "metadata": {},
   "outputs": [
    {
     "name": "stdout",
     "output_type": "stream",
     "text": [
      "enter how many values you want the array to contain: 3\n",
      "enter value 1: 10\n",
      "enter value 2: 30\n",
      "enter value 3: 100\n",
      "the sum of the value is 140.0\n"
     ]
    }
   ],
   "source": [
    "array_values = []\n",
    "k = 0\n",
    "b = int(input(\"enter how many values you want the array to contain: \"))\n",
    "for i in range(1, b+1):\n",
    "    values = float(input(f\"enter value {i}: \"))\n",
    "    array_values.append(values)\n",
    "for i in array_values:\n",
    "    k = k + i\n",
    "print(f\"the sum of the value is {k}\")"
   ]
  },
  {
   "cell_type": "code",
   "execution_count": 23,
   "id": "a8402c95",
   "metadata": {},
   "outputs": [
    {
     "name": "stdout",
     "output_type": "stream",
     "text": [
      "21\n"
     ]
    }
   ],
   "source": [
    "x_arr = [10, 2.1, 21, 8, 5, 4, 1.1]\n",
    "\n",
    "b = x_arr[0]\n",
    "for i in x_arr:\n",
    "    if i > b:\n",
    "        b = i\n",
    "print(b)"
   ]
  },
  {
   "cell_type": "code",
   "execution_count": 27,
   "id": "85d3a6aa",
   "metadata": {},
   "outputs": [
    {
     "name": "stdout",
     "output_type": "stream",
     "text": [
      "7.314\n"
     ]
    }
   ],
   "source": [
    "##mean of array x_arr\n",
    "sum_value = 0\n",
    "for i in x_arr:\n",
    "    sum_value = sum_value + i\n",
    "    \n",
    "mean_value = round(sum_value/len(x_arr), 3)\n",
    "print(mean_value)"
   ]
  },
  {
   "cell_type": "code",
   "execution_count": 35,
   "id": "0ff6b2b8",
   "metadata": {},
   "outputs": [
    {
     "name": "stdout",
     "output_type": "stream",
     "text": [
      "[1.1, 2.1, 4, 5, 8, 10, 21]\n"
     ]
    }
   ],
   "source": [
    "print(x_arr)"
   ]
  },
  {
   "cell_type": "code",
   "execution_count": 38,
   "id": "27aa02c6",
   "metadata": {},
   "outputs": [],
   "source": [
    "x_arr.sort()"
   ]
  },
  {
   "cell_type": "code",
   "execution_count": 30,
   "id": "d197a4c8",
   "metadata": {},
   "outputs": [
    {
     "name": "stdout",
     "output_type": "stream",
     "text": [
      "[1.1, 2.1, 4, 5, 8, 10, 21]\n"
     ]
    }
   ],
   "source": [
    "print(x_arr)"
   ]
  },
  {
   "cell_type": "code",
   "execution_count": 34,
   "id": "cf847e1b",
   "metadata": {},
   "outputs": [
    {
     "name": "stdout",
     "output_type": "stream",
     "text": [
      "5\n"
     ]
    }
   ],
   "source": [
    "mid = int(len(x_arr)/2)\n",
    "print(x_arr[mid])"
   ]
  },
  {
   "cell_type": "code",
   "execution_count": 36,
   "id": "ade42f66",
   "metadata": {},
   "outputs": [],
   "source": [
    "x_arr.append(6)"
   ]
  },
  {
   "cell_type": "code",
   "execution_count": 50,
   "id": "265b516a",
   "metadata": {},
   "outputs": [
    {
     "name": "stdout",
     "output_type": "stream",
     "text": [
      "[1.1, 2.1, 4, 5, 6, 8, 10, 21]\n"
     ]
    }
   ],
   "source": [
    "print(x_arr)"
   ]
  },
  {
   "cell_type": "code",
   "execution_count": 44,
   "id": "e6cbdd3f",
   "metadata": {},
   "outputs": [
    {
     "name": "stdout",
     "output_type": "stream",
     "text": [
      "5.5\n"
     ]
    }
   ],
   "source": [
    "mid1 = int(len(x_arr)/2)\n",
    "mid2 = mid1 - 1\n",
    "median_val = (x_arr[mid1] + x_arr[mid2])/2\n",
    "print(median_val)"
   ]
  },
  {
   "cell_type": "code",
   "execution_count": 47,
   "id": "160d9b62",
   "metadata": {},
   "outputs": [
    {
     "name": "stdout",
     "output_type": "stream",
     "text": [
      "enter how many values you want the array to contain: 4\n",
      "enter value 1: 2\n",
      "enter value 2: 1\n",
      "enter value 3: 7\n",
      "enter value 4: 3\n",
      "2.5\n"
     ]
    }
   ],
   "source": [
    "array_values = []\n",
    "k = 0\n",
    "b = int(input(\"enter how many values you want the array to contain: \"))\n",
    "for i in range(1, b+1):\n",
    "    values = float(input(f\"enter value {i}: \"))\n",
    "    array_values.append(values)\n",
    "for i in array_values:\n",
    "    k = k + i\n",
    "\n",
    "######################################################################\n",
    "\n",
    "array_values.sort()\n",
    "if len(array_values)%2 != 0:\n",
    "    mid = int(len(array_values)/2)\n",
    "    print(array_values[mid])\n",
    "else:\n",
    "    mid1 = int(len(array_values)/2)\n",
    "    mid2 = mid1 - 1\n",
    "    median_val = (array_values[mid1] + array_values[mid2])/2\n",
    "    print(median_val) "
   ]
  },
  {
   "cell_type": "code",
   "execution_count": 53,
   "id": "ad504730",
   "metadata": {},
   "outputs": [
    {
     "name": "stdout",
     "output_type": "stream",
     "text": [
      "enter the measure of central tendency you want: median\n",
      "enter how many values you want the array to contain: 4\n",
      "enter value 1: 4\n",
      "enter value 2: 6\n",
      "enter value 3: 3\n",
      "enter value 4: 5\n",
      "4.5\n"
     ]
    }
   ],
   "source": [
    "measure_tendency = input('enter the measure of central tendency you want: ').lower()\n",
    "array_values = []\n",
    "k = 0\n",
    "b = int(input(\"enter how many values you want the array to contain: \"))\n",
    "for i in range(1, b+1):\n",
    "    values = float(input(f\"enter value {i}: \"))\n",
    "    array_values.append(values)\n",
    "for i in array_values:\n",
    "    k = k + i\n",
    "\n",
    "\n",
    "######################################################################\n",
    "\n",
    "if measure_tendency == \"median\":\n",
    "    array_values.sort()\n",
    "    if len(array_values)%2 != 0:\n",
    "        mid = int(len(array_values)/2)\n",
    "        print(array_values[mid])\n",
    "    else:\n",
    "        mid1 = int(len(array_values)/2)\n",
    "        mid2 = mid1 - 1\n",
    "        median_val = (array_values[mid1] + array_values[mid2])/2\n",
    "        print(median_val) \n",
    "        \n",
    "elif measure_tendency == \"mean\":\n",
    "    sum_value = 0\n",
    "    for i in array_values:\n",
    "        sum_value = sum_value + i\n",
    "\n",
    "    mean_value = round(sum_value/len(array_values), 3)\n",
    "    print(mean_value)\n",
    "    \n",
    "else:\n",
    "    print(\"measure of central tendency not defined!!!!\")"
   ]
  },
  {
   "cell_type": "markdown",
   "id": "3872ed10",
   "metadata": {},
   "source": [
    "####\n",
    "6! = 6*5*4*3*2*1"
   ]
  }
 ],
 "metadata": {
  "kernelspec": {
   "display_name": "Python 3 (ipykernel)",
   "language": "python",
   "name": "python3"
  },
  "language_info": {
   "codemirror_mode": {
    "name": "ipython",
    "version": 3
   },
   "file_extension": ".py",
   "mimetype": "text/x-python",
   "name": "python",
   "nbconvert_exporter": "python",
   "pygments_lexer": "ipython3",
   "version": "3.9.12"
  }
 },
 "nbformat": 4,
 "nbformat_minor": 5
}
