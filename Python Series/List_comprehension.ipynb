{
 "cells": [
  {
   "cell_type": "code",
   "execution_count": 5,
   "id": "bcf0318c",
   "metadata": {},
   "outputs": [
    {
     "name": "stdout",
     "output_type": "stream",
     "text": [
      "[2, 4, 6, 8]\n"
     ]
    }
   ],
   "source": [
    "array_plot = []\n",
    "for i in range(1, 10):\n",
    "    if i%2 == 0:\n",
    "        array_plot.append(i)\n",
    "print(array_plot)"
   ]
  },
  {
   "cell_type": "code",
   "execution_count": 6,
   "id": "d51fc0ed",
   "metadata": {},
   "outputs": [
    {
     "name": "stdout",
     "output_type": "stream",
     "text": [
      "[0, 2, 4, 6, 8]\n"
     ]
    }
   ],
   "source": [
    "array_plot = [i for i in range(0, 10) if i%2 == 0]\n",
    "print(array_plot)"
   ]
  },
  {
   "cell_type": "code",
   "execution_count": 9,
   "id": "ad259b5b",
   "metadata": {},
   "outputs": [
    {
     "name": "stdout",
     "output_type": "stream",
     "text": [
      "[4, 5, 4, 5]\n"
     ]
    }
   ],
   "source": [
    "list_names = [\"john\", \"jamie\", \"kate\", \"peace\"]\n",
    "count_names = []\n",
    "for i in list_names:\n",
    "    d = len(i)\n",
    "    count_names.append(d)\n",
    "print(count_names)"
   ]
  },
  {
   "cell_type": "code",
   "execution_count": 10,
   "id": "000d15b2",
   "metadata": {},
   "outputs": [
    {
     "name": "stdout",
     "output_type": "stream",
     "text": [
      "[4, 5, 4, 5]\n"
     ]
    }
   ],
   "source": [
    "count_n = [len(i) for i in list_names] \n",
    "print(count_n)"
   ]
  },
  {
   "cell_type": "code",
   "execution_count": 17,
   "id": "0450ee17",
   "metadata": {},
   "outputs": [
    {
     "name": "stdout",
     "output_type": "stream",
     "text": [
      "[[[0, 0.0], [0.0, 3]], [[1, 0.5], [0.5, 4]], [[2, 1.0], [1.0, 5]], [[3, 1.5], [1.5, 6]], [[4, 2.0], [2.0, 7]]]\n"
     ]
    }
   ],
   "source": [
    "###Basic matrix operation\n",
    "\n",
    "mat_1 = [[[i, i/2], [i*(1/2), i+3]] for i in range(5)]\n",
    "print(mat_1)"
   ]
  },
  {
   "cell_type": "code",
   "execution_count": 19,
   "id": "5dae9e01",
   "metadata": {},
   "outputs": [
    {
     "name": "stdout",
     "output_type": "stream",
     "text": [
      "[[1, 2, 3], [4, 5, 6], [0, 8, 4]]\n"
     ]
    }
   ],
   "source": [
    "matrix = [[1, 2, 3],\n",
    "           [4, 5, 6],\n",
    "         [0, 8, 4]\n",
    "         ]\n",
    "print(matrix)"
   ]
  },
  {
   "cell_type": "code",
   "execution_count": 74,
   "id": "a55b7d51",
   "metadata": {},
   "outputs": [],
   "source": [
    "# import pandas as pd\n",
    "# df = pd.DataFrame(matrix, columns=[\"x\", \"y\", \"z\"])\n",
    "# df.to_csv(\"matrix.csv\", index=False)"
   ]
  },
  {
   "cell_type": "code",
   "execution_count": 77,
   "id": "6d4a5d70",
   "metadata": {},
   "outputs": [
    {
     "name": "stdout",
     "output_type": "stream",
     "text": [
      "4\n"
     ]
    }
   ],
   "source": [
    "print(matrix[1][0])"
   ]
  },
  {
   "cell_type": "code",
   "execution_count": 30,
   "id": "bce2edec",
   "metadata": {},
   "outputs": [
    {
     "name": "stdout",
     "output_type": "stream",
     "text": [
      "1\n",
      "5\n",
      "4\n"
     ]
    }
   ],
   "source": [
    "for i in range(len(matrix)):\n",
    "    print(matrix[i][i])"
   ]
  },
  {
   "cell_type": "code",
   "execution_count": 46,
   "id": "11549cb2",
   "metadata": {},
   "outputs": [
    {
     "name": "stdout",
     "output_type": "stream",
     "text": [
      "[1, 2, 3]\n",
      "[4, 5, 6]\n",
      "[0, 8, 4]\n"
     ]
    }
   ],
   "source": [
    "for i in range(len(matrix)):\n",
    "    print(matrix[i])"
   ]
  },
  {
   "cell_type": "code",
   "execution_count": 80,
   "id": "321a9b13",
   "metadata": {},
   "outputs": [
    {
     "name": "stdout",
     "output_type": "stream",
     "text": [
      "1\n",
      "5\n",
      "4\n"
     ]
    }
   ],
   "source": [
    "for i in range(len(matrix)):\n",
    "    print(matrix[i][i])"
   ]
  },
  {
   "cell_type": "code",
   "execution_count": 83,
   "id": "2de70740",
   "metadata": {},
   "outputs": [
    {
     "name": "stdout",
     "output_type": "stream",
     "text": [
      "[0, 1, 2]\n",
      "[2, 1, 0]\n"
     ]
    }
   ],
   "source": [
    "new_array = [i for i in range(len(matrix))]\n",
    "print(new_array)\n",
    "array_p = new_array.copy()\n",
    "#print(array_p)\n",
    "array_p.reverse()\n",
    "# print(new_array)\n",
    "print(array_p)"
   ]
  },
  {
   "cell_type": "code",
   "execution_count": 86,
   "id": "37b15222",
   "metadata": {},
   "outputs": [
    {
     "name": "stdout",
     "output_type": "stream",
     "text": [
      "3\n",
      "5\n",
      "0\n"
     ]
    }
   ],
   "source": [
    "for i in range(0, len(new_array)):\n",
    "    print(matrix[new_array[i]][array_p[i]])"
   ]
  },
  {
   "cell_type": "code",
   "execution_count": 70,
   "id": "b95a2a36",
   "metadata": {},
   "outputs": [
    {
     "name": "stdout",
     "output_type": "stream",
     "text": [
      "3\n",
      "5\n",
      "0\n"
     ]
    }
   ],
   "source": [
    "for i in range(0, len(array_p)):\n",
    "    print(matrix[new_array[i]][array_p[i]])"
   ]
  },
  {
   "cell_type": "code",
   "execution_count": null,
   "id": "57f83361",
   "metadata": {},
   "outputs": [],
   "source": [
    "for i in range(0, len(array_p)):\n",
    "    print(matrix[new_array[i]][array_p[i]])"
   ]
  },
  {
   "cell_type": "code",
   "execution_count": 66,
   "id": "7303171a",
   "metadata": {},
   "outputs": [],
   "source": [
    "array_p = new_array.copy()\n",
    "array_p.reverse()"
   ]
  },
  {
   "cell_type": "code",
   "execution_count": 67,
   "id": "8b5f5b5b",
   "metadata": {},
   "outputs": [
    {
     "data": {
      "text/plain": [
       "[0, 1, 2]"
      ]
     },
     "execution_count": 67,
     "metadata": {},
     "output_type": "execute_result"
    }
   ],
   "source": [
    "new_array"
   ]
  },
  {
   "cell_type": "code",
   "execution_count": 68,
   "id": "4e6d4223",
   "metadata": {},
   "outputs": [
    {
     "data": {
      "text/plain": [
       "[2, 1, 0]"
      ]
     },
     "execution_count": 68,
     "metadata": {},
     "output_type": "execute_result"
    }
   ],
   "source": [
    "array_p"
   ]
  },
  {
   "cell_type": "code",
   "execution_count": 73,
   "id": "40e6ca75",
   "metadata": {},
   "outputs": [
    {
     "name": "stdout",
     "output_type": "stream",
     "text": [
      "8\n"
     ]
    }
   ],
   "source": [
    "new_sum = 0\n",
    "for i in range(0, len(array_p)):\n",
    "    b = matrix[new_array[i]][array_p[i]]\n",
    "    new_sum = b + new_sum\n",
    "print(new_sum)"
   ]
  },
  {
   "cell_type": "code",
   "execution_count": 87,
   "id": "eb4f2dfd",
   "metadata": {},
   "outputs": [],
   "source": [
    "####string methods\n",
    "# - split()\n",
    "# - pop()\n",
    "# - joins()"
   ]
  },
  {
   "cell_type": "code",
   "execution_count": 89,
   "id": "47de4f01",
   "metadata": {},
   "outputs": [
    {
     "data": {
      "text/plain": [
       "['+234', '081', '625', '8163']"
      ]
     },
     "execution_count": 89,
     "metadata": {},
     "output_type": "execute_result"
    }
   ],
   "source": [
    "phone_number = \"+234-081-625-8163\"\n",
    "str_val = phone_number.split(\"-\")\n",
    "str_val"
   ]
  },
  {
   "cell_type": "code",
   "execution_count": 128,
   "id": "aa99dcde",
   "metadata": {},
   "outputs": [
    {
     "data": {
      "text/plain": [
       "'+2340816258163'"
      ]
     },
     "execution_count": 128,
     "metadata": {},
     "output_type": "execute_result"
    }
   ],
   "source": [
    "a = \"\"\n",
    "a.join(str_val)"
   ]
  },
  {
   "cell_type": "code",
   "execution_count": 125,
   "id": "61cd9327",
   "metadata": {},
   "outputs": [
    {
     "name": "stdout",
     "output_type": "stream",
     "text": [
      "a-b-jack\n"
     ]
    }
   ],
   "source": [
    "s = \"-\"\n",
    "seq = [\"a\", \"b\", \"jack\"]\n",
    "print(s.join( seq ))"
   ]
  },
  {
   "cell_type": "code",
   "execution_count": 132,
   "id": "7c8c78ce",
   "metadata": {},
   "outputs": [
    {
     "name": "stdout",
     "output_type": "stream",
     "text": [
      "['john', 'kate', 'peter']\n",
      "['williams', 'herna', 'drury']\n"
     ]
    }
   ],
   "source": [
    "first_name = []\n",
    "last_name = []\n",
    "array_names = [\"john-williams\", \"kate-herna\", \"peter-drury\"]\n",
    "for i in array_names:\n",
    "    a = i.split(\"-\")[0]\n",
    "    first_name.append(a)\n",
    "    b = i.split(\"-\")[1]\n",
    "    last_name.append(b)\n",
    "print(first_name)\n",
    "print(last_name)"
   ]
  },
  {
   "cell_type": "code",
   "execution_count": 134,
   "id": "3c6f941e",
   "metadata": {},
   "outputs": [],
   "source": [
    "name_arry = [\"john-williams\", \"kate-herna\", \"peter-drury\", \"john#philip\", \"matt#bureau\"]"
   ]
  },
  {
   "cell_type": "code",
   "execution_count": 140,
   "id": "8f9548b8",
   "metadata": {},
   "outputs": [
    {
     "name": "stdout",
     "output_type": "stream",
     "text": [
      "['john', 'kate', 'peter', 'john', 'matt']\n",
      "['williams', 'herna', 'drury', 'philip', 'bureau']\n"
     ]
    }
   ],
   "source": [
    "f_names = []\n",
    "l_names = []\n",
    "for i in name_arry:\n",
    "    if \"-\" in i:\n",
    "        a = i.split(\"-\")[0]\n",
    "        k = i.split(\"-\")[1]\n",
    "        f_names.append(a)\n",
    "        l_names.append(k)\n",
    "        #print(a)\n",
    "    elif \"#\" in i:\n",
    "        b = i.split(\"#\")[0]\n",
    "        l = i.split(\"#\")[1]\n",
    "        f_names.append(b)\n",
    "        l_names.append(l)\n",
    "print(f_names)\n",
    "print(l_names)"
   ]
  },
  {
   "cell_type": "code",
   "execution_count": null,
   "id": "6206efd2",
   "metadata": {},
   "outputs": [],
   "source": [
    "###\n",
    "s='abcbcaba'\n",
    "##find the longest substring"
   ]
  }
 ],
 "metadata": {
  "kernelspec": {
   "display_name": "Python 3 (ipykernel)",
   "language": "python",
   "name": "python3"
  },
  "language_info": {
   "codemirror_mode": {
    "name": "ipython",
    "version": 3
   },
   "file_extension": ".py",
   "mimetype": "text/x-python",
   "name": "python",
   "nbconvert_exporter": "python",
   "pygments_lexer": "ipython3",
   "version": "3.9.12"
  }
 },
 "nbformat": 4,
 "nbformat_minor": 5
}
