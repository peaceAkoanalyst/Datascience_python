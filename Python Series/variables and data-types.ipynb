{
 "cells": [
  {
   "cell_type": "code",
   "execution_count": 3,
   "id": "f4ea4098",
   "metadata": {},
   "outputs": [
    {
     "name": "stdout",
     "output_type": "stream",
     "text": [
      "5.5\n"
     ]
    }
   ],
   "source": [
    "print(5.5)"
   ]
  },
  {
   "cell_type": "code",
   "execution_count": 4,
   "id": "6d920011",
   "metadata": {},
   "outputs": [
    {
     "name": "stdout",
     "output_type": "stream",
     "text": [
      "<class 'float'>\n"
     ]
    }
   ],
   "source": [
    "print(type(5.5))"
   ]
  },
  {
   "cell_type": "code",
   "execution_count": 6,
   "id": "562c95bd",
   "metadata": {},
   "outputs": [
    {
     "name": "stdout",
     "output_type": "stream",
     "text": [
      "<class 'bool'>\n"
     ]
    }
   ],
   "source": [
    "print(type(False))"
   ]
  },
  {
   "cell_type": "code",
   "execution_count": 11,
   "id": "b5a12167",
   "metadata": {},
   "outputs": [
    {
     "name": "stdout",
     "output_type": "stream",
     "text": [
      "<class 'bool'>\n"
     ]
    }
   ],
   "source": [
    "a = True\n",
    "print(type(a))"
   ]
  },
  {
   "cell_type": "code",
   "execution_count": 9,
   "id": "35d2242e",
   "metadata": {},
   "outputs": [
    {
     "name": "stdout",
     "output_type": "stream",
     "text": [
      "8\n"
     ]
    }
   ],
   "source": [
    "a = 5\n",
    "b = 3\n",
    "print(a+b)"
   ]
  },
  {
   "cell_type": "code",
   "execution_count": 18,
   "id": "e60061da",
   "metadata": {},
   "outputs": [
    {
     "name": "stdout",
     "output_type": "stream",
     "text": [
      "enter value 1: 5.5\n",
      "enter value 2: 2.5\n",
      "8.0\n"
     ]
    }
   ],
   "source": [
    "print(float(input(\"enter value 1: \")) + float(input(\"enter value 2: \")))"
   ]
  },
  {
   "cell_type": "code",
   "execution_count": 17,
   "id": "8217ec72",
   "metadata": {},
   "outputs": [
    {
     "name": "stdout",
     "output_type": "stream",
     "text": [
      "enter value 1: 2.5\n",
      "enter value 2: 3.4\n",
      "the sum of the values is 5.9\n"
     ]
    }
   ],
   "source": [
    "a_var = float(input(\"enter value 1: \"))\n",
    "b_var = float(input(\"enter value 2: \"))\n",
    "print(f\"the sum of the values is {a_var + b_var}\")"
   ]
  },
  {
   "cell_type": "code",
   "execution_count": 25,
   "id": "3980dde3",
   "metadata": {
    "scrolled": true
   },
   "outputs": [
    {
     "name": "stdout",
     "output_type": "stream",
     "text": [
      "enter name: damian\n",
      "enter year you were born: 2005\n",
      "************************************************************\n",
      "my name is damian.\n",
      "I was born 17 years ago.\n"
     ]
    }
   ],
   "source": [
    "name = input(\"enter name: \")\n",
    "birth_year = int(input(\"enter year you were born: \"))\n",
    "print(\"*\" * 60)\n",
    "print(f\"\"\"my name is {name}.\n",
    "I was born {2022 - birth_year} years ago.\"\"\")"
   ]
  },
  {
   "cell_type": "markdown",
   "id": "68daddf9",
   "metadata": {},
   "source": [
    "#### Conditionals"
   ]
  },
  {
   "cell_type": "markdown",
   "id": "66ae6e83",
   "metadata": {},
   "source": [
    "1. c = 5/9 * (f - 32)\n",
    "2. f = 9/5 * (c + 32)"
   ]
  },
  {
   "cell_type": "code",
   "execution_count": 34,
   "id": "c59e7876",
   "metadata": {},
   "outputs": [
    {
     "name": "stdout",
     "output_type": "stream",
     "text": [
      "enter temperature value: 5\n",
      "enter unit (f/c): f\n",
      "the temperatur value from fahr to celcuis is -15.0 degree celcuis\n"
     ]
    }
   ],
   "source": [
    "temperature_value = float(input(\"enter temperature value: \"))\n",
    "unit = input(\"enter unit (f/c): \")\n",
    "\n",
    "if unit == \"f\":\n",
    "    celcuis = (5/9) * (temperature_value - 32)\n",
    "    if celcuis < 0:\n",
    "        kelvin = celcuis + 273\n",
    "        print(f\"the tempearture value in kelvin is {kelvin}\")\n",
    "    else:\n",
    "        print(f\"the temperatur value from fahr to celcuis is {round(celcuis, 2)} degree celcuis\")\n",
    "        \n",
    "elif unit == \"c\":\n",
    "    fahr = (9/5) * (temperature_value + 32)\n",
    "    print(f\"the temperatur value from celcuis to fahrenheit is {round(fahr, 2)} degrees fahrenheit\")\n",
    "else:\n",
    "    print(\"i dont understand inputs\")"
   ]
  },
  {
   "cell_type": "code",
   "execution_count": 35,
   "id": "4a0d4db4",
   "metadata": {},
   "outputs": [],
   "source": [
    "###Body mass index calculator"
   ]
  },
  {
   "cell_type": "code",
   "execution_count": 38,
   "id": "df67709b",
   "metadata": {},
   "outputs": [
    {
     "name": "stdout",
     "output_type": "stream",
     "text": [
      "enter weight value: 67\n",
      "enter height value: 2.7\n",
      "enter unit of weight: g\n",
      "enter unit of height: m\n",
      "you are underweight and your bmi value is 0.0092\n"
     ]
    }
   ],
   "source": [
    "weight = float(input(\"enter weight value: \"))\n",
    "height = float(input(\"enter height value: \"))\n",
    "unit_weight = input(\"enter unit of weight: \").lower()\n",
    "unit_height = input(\"enter unit of height: \").lower()\n",
    "\n",
    "if unit_weight == \"g\" and unit_height == \"m\":\n",
    "    bmi_value = round((weight/1000)/(height**2), 4)\n",
    "    if bmi_value >= 25:\n",
    "        print(f\"you are over weight because your bmi value is {bmi_value}\")\n",
    "    elif bmi_value >15 and bmi_value < 25:\n",
    "        print(f\"your weight is normal because your bmi value is {bmi_value}\")\n",
    "    else:\n",
    "        print(f\"you are underweight and your bmi value is {bmi_value}\")\n",
    "        \n",
    "else:\n",
    "    print(\"i dont understand input\")"
   ]
  },
  {
   "cell_type": "code",
   "execution_count": null,
   "id": "8d62d7b9",
   "metadata": {},
   "outputs": [],
   "source": []
  }
 ],
 "metadata": {
  "kernelspec": {
   "display_name": "Python 3 (ipykernel)",
   "language": "python",
   "name": "python3"
  },
  "language_info": {
   "codemirror_mode": {
    "name": "ipython",
    "version": 3
   },
   "file_extension": ".py",
   "mimetype": "text/x-python",
   "name": "python",
   "nbconvert_exporter": "python",
   "pygments_lexer": "ipython3",
   "version": "3.9.12"
  }
 },
 "nbformat": 4,
 "nbformat_minor": 5
}
